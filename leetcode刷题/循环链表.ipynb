{
 "metadata": {
  "language_info": {
   "codemirror_mode": {
    "name": "ipython",
    "version": 3
   },
   "file_extension": ".py",
   "mimetype": "text/x-python",
   "name": "python",
   "nbconvert_exporter": "python",
   "pygments_lexer": "ipython3",
   "version": "3.8.10"
  },
  "orig_nbformat": 4,
  "kernelspec": {
   "name": "python3",
   "display_name": "Python 3.8.10 64-bit ('dataAna': conda)"
  },
  "interpreter": {
   "hash": "b4a4b7fe6ec9b4fb695e0bbee7ccf3503571ff07faef1035f5944f65fd5aeb55"
  }
 },
 "nbformat": 4,
 "nbformat_minor": 2,
 "cells": [
  {
   "cell_type": "code",
   "execution_count": 23,
   "metadata": {},
   "outputs": [],
   "source": [
    "class ListNode(object):\n",
    "    # 1.定义构造器\n",
    "    def __init__(self, val = 0):\n",
    "        self.prev = None   # 前指针      \n",
    "        self.val = val      # 存放值\n",
    "        self.next = None    # 后指针\n"
   ]
  },
  {
   "cell_type": "code",
   "execution_count": 24,
   "metadata": {},
   "outputs": [],
   "source": [
    "class Solution(object):\n",
    "    # 1.构造器: 初始化头结点\n",
    "    def __init__(self):\n",
    "        self.size = 0           # 节点个数\n",
    "        self.head = ListNode(0)\n",
    "    \n",
    "    # 2. 定义 append() : 用来添加节点\n",
    "    def append(self, val : list) -> bool:\n",
    "        # 1.列表长度为0，添加失败\n",
    "        if len(val) == 0:\n",
    "            return False\n",
    "        # 2.开始添加\n",
    "        temp = self.head    # temp 指向头结点\n",
    "        for x in val:\n",
    "            node = ListNode(x)\n",
    "            temp.next = node \n",
    "            node.prev = temp\n",
    "            self.size += 1\n",
    "        return True\n",
    "    # 3.定义out() : 输出添加的节点的所有值\n",
    "    def out(self):\n",
    "        # 1.如果头结点为空，返回None\n",
    "        if self.head.next == None:\n",
    "            return None\n",
    "        temp = self.head.next    # 相当于指向第一个元素\n",
    "        while temp != None:\n",
    "            print(temp.val)\n",
    "            temp = temp.next  # temp 指向下一个节点\n",
    "        return True \n"
   ]
  },
  {
   "cell_type": "code",
   "execution_count": 28,
   "metadata": {},
   "outputs": [
    {
     "output_type": "stream",
     "name": "stdout",
     "text": [
      "节点的长度：6\n6\n"
     ]
    },
    {
     "output_type": "execute_result",
     "data": {
      "text/plain": [
       "True"
      ]
     },
     "metadata": {},
     "execution_count": 28
    }
   ],
   "source": [
    "# if __name__ == '__main__':\n",
    "obj = Solution()\n",
    "my_list = [1, 2, 3, 4, 5, 6]\n",
    "obj.append(my_list)\n",
    "print('节点的长度：{0}'.format(obj.size))\n",
    "obj.out()"
   ]
  },
  {
   "cell_type": "code",
   "execution_count": null,
   "metadata": {},
   "outputs": [],
   "source": []
  }
 ]
}