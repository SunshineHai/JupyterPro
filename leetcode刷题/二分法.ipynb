{
 "metadata": {
  "language_info": {
   "codemirror_mode": {
    "name": "ipython",
    "version": 3
   },
   "file_extension": ".py",
   "mimetype": "text/x-python",
   "name": "python",
   "nbconvert_exporter": "python",
   "pygments_lexer": "ipython3",
   "version": "3.8.10"
  },
  "orig_nbformat": 4,
  "kernelspec": {
   "name": "python3",
   "display_name": "Python 3.8.10 64-bit ('dataAna': conda)"
  },
  "interpreter": {
   "hash": "b4a4b7fe6ec9b4fb695e0bbee7ccf3503571ff07faef1035f5944f65fd5aeb55"
  }
 },
 "nbformat": 4,
 "nbformat_minor": 2,
 "cells": [
  {
   "cell_type": "code",
   "execution_count": 7,
   "metadata": {},
   "outputs": [],
   "source": [
    "# 手撕二分\n",
    "# 给定一个升序的数组arr[], 要查找的元素 ele,若 存在该元素，则返回在数组中的第一个元素的下标，否则，返回-1.\n",
    "# 思路：\n",
    "'''\n",
    "1.left 和 right 分别指向数组的头和尾，求中间的元素的索引，mid = (left + right)/2；\n",
    "2.比较 arr[mid] > ele ,则在左边寻找，否则在右边寻找\n",
    "3.重复 步骤1、2 \n",
    "'''\n",
    "# test_list = [2, 4, 7, 8, 10, 16, 20]  ele = 11\n",
    "def binarySearch(arr : list, ele : int) -> int:\n",
    "    left, right = 0, len(arr) - 1\n",
    "    while(left <= right):\n",
    "        mid = (left + right) // 2\n",
    "        if arr[mid] == ele:\n",
    "            return mid\n",
    "        elif arr[mid] > ele:\n",
    "            right = mid - 1\n",
    "        else:\n",
    "            left = mid + 1\n",
    "    return -1\n"
   ]
  },
  {
   "cell_type": "code",
   "execution_count": 8,
   "metadata": {},
   "outputs": [
    {
     "output_type": "execute_result",
     "data": {
      "text/plain": [
       "4"
      ]
     },
     "metadata": {},
     "execution_count": 8
    }
   ],
   "source": [
    "arr, ele = [2, 4, 7, 8, 10, 16, 20], 10\n",
    "res = binarySearch(arr, ele) \n",
    "res"
   ]
  }
 ]
}