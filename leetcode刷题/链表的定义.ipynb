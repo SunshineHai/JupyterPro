{
 "metadata": {
  "language_info": {
   "codemirror_mode": {
    "name": "ipython",
    "version": 3
   },
   "file_extension": ".py",
   "mimetype": "text/x-python",
   "name": "python",
   "nbconvert_exporter": "python",
   "pygments_lexer": "ipython3",
   "version": "3.8.10"
  },
  "orig_nbformat": 4,
  "kernelspec": {
   "name": "python3",
   "display_name": "Python 3.8.10 64-bit ('dataAna': conda)"
  },
  "interpreter": {
   "hash": "b4a4b7fe6ec9b4fb695e0bbee7ccf3503571ff07faef1035f5944f65fd5aeb55"
  }
 },
 "nbformat": 4,
 "nbformat_minor": 2,
 "cells": [
  {
   "cell_type": "code",
   "execution_count": 4,
   "metadata": {},
   "outputs": [],
   "source": [
    "# 链表: 定义节点\n",
    "class Node(object):\n",
    "    # 定义构造器，初始化链表中的指针域和数据域。\n",
    "    def __init__(self, val = 0, next = None):\n",
    "        self.val = val\n",
    "        self.next = next"
   ]
  },
  {
   "cell_type": "code",
   "execution_count": 5,
   "metadata": {},
   "outputs": [],
   "source": [
    "class ListNode(object):\r\n",
    " \r\n",
    "    def __init__(self, val = 0):\r\n",
    "        self.append(self, val)\r\n",
    "    \r\n",
    "    # 定义 append() : 添加元素到链表中\r\n",
    "    def append(self, ele):\r\n",
    "        head = Node()\r\n",
    "        while head.next != None:\r\n",
    "            head = head.next\r\n",
    "        #要添加的节点\r\n",
    "        node = Node(ele)\r\n",
    "        head.next = node\r\n",
    "        return head \r\n",
    "\r\n",
    "    "
   ]
  },
  {
   "cell_type": "code",
   "execution_count": 6,
   "metadata": {},
   "outputs": [
    {
     "output_type": "stream",
     "name": "stdout",
     "text": [
      "3\n6\n6\n8\n"
     ]
    }
   ],
   "source": [
    "\n",
    "# 链表: 定义节点\n",
    "class ListNode(object):\n",
    "    # 定义构造器，初始化链表中的指针域和数据域。\n",
    "    def __init__(self, val = 0, next = None):\n",
    "        self.val = val\n",
    "        self.next = next\n",
    "\n",
    "class Solution:\n",
    "    head = ListNode()\n",
    "    def __init__(self, val = None):\n",
    "        self.append(val)\n",
    "\n",
    "    # 定义 append() : 添加元素到链表中\n",
    "    def append(self, ele : list):\n",
    "        if ele == None:\n",
    "            return\n",
    "        # 用来移动的节点\n",
    "        temp = self.head\n",
    "        for e in ele:\n",
    "            node = ListNode(e)\n",
    "            # 找到节点的最后一个元素。\n",
    "            while temp.next != None:\n",
    "                temp = temp.next\n",
    "            temp.next = node\n",
    "        return self.head\n",
    "    # 输出节点\n",
    "    def output(self):\n",
    "        if self.head.next == None:\n",
    "            print('这个链表为空')\n",
    "        head = self.head.next\n",
    "        while head != None:\n",
    "            print(head.val)\n",
    "            head = head.next\n",
    "\n",
    "    # 移除val : 迭代法\n",
    "    def removeElements(self, head, val : int):\n",
    "        if head == None:\n",
    "            return head\n",
    "        temp = ListNode()\n",
    "        temp = head\n",
    "        while temp.next != None:\n",
    "            if (temp.next.val == val):\n",
    "                temp.next = temp.next.next\n",
    "                # 末尾\n",
    "            else:\n",
    "                temp = temp.next\n",
    "        return head\n",
    "if __name__ == '__main__':\n",
    "    node = Solution()\n",
    "    head = node.append([7, 7 , 3, 6, 7, 6, 8, 7])\n",
    "    # node.append(4)\n",
    "    # node.append(5)\n",
    "    # node.append(6)\n",
    "    node.removeElements(head, 7)\n",
    "    node.output()\n",
    "\n",
    "\n"
   ]
  }
 ]
}