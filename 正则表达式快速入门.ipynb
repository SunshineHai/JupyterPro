{
 "metadata": {
  "language_info": {
   "codemirror_mode": {
    "name": "ipython",
    "version": 3
   },
   "file_extension": ".py",
   "mimetype": "text/x-python",
   "name": "python",
   "nbconvert_exporter": "python",
   "pygments_lexer": "ipython3",
   "version": "3.8.10"
  },
  "orig_nbformat": 4,
  "kernelspec": {
   "name": "python3",
   "display_name": "Python 3.8.10 64-bit ('dataAna': conda)"
  },
  "interpreter": {
   "hash": "b4a4b7fe6ec9b4fb695e0bbee7ccf3503571ff07faef1035f5944f65fd5aeb55"
  }
 },
 "nbformat": 4,
 "nbformat_minor": 2,
 "cells": [
  {
   "cell_type": "code",
   "execution_count": 2,
   "metadata": {},
   "outputs": [
    {
     "output_type": "stream",
     "name": "stdout",
     "text": [
      "(0, 3)\nNone\n"
     ]
    }
   ],
   "source": [
    "# 正则表达式(Regular Expression)是一种文本模式，包括普通字符（例如，a 到 z 之间的字母）和特殊字符（称为\"元字符\"）。\n",
    "\n",
    "# 正则表达式使用单个字符串来描述、匹配一系列匹配某个句法规则的字符串。\n",
    "# 正则表达式是繁琐的，但它是强大的，学会之后的应用会让你除了提高效率外，会给你带来绝对的成就感。\n",
    "\n",
    "import re\n",
    "print(re.match('www', 'www.runoob.com').span())  # 在起始位置匹配\n",
    "print(re.match('com', 'www.runoob.com'))         # 不在起始位置匹配"
   ]
  },
  {
   "cell_type": "code",
   "execution_count": 4,
   "metadata": {},
   "outputs": [
    {
     "output_type": "stream",
     "name": "stdout",
     "text": [
      "(0, 3)\n"
     ]
    }
   ],
   "source": [
    "import re\n",
    "print(re.match('abc', 'abc,ABC,abc').span())"
   ]
  },
  {
   "cell_type": "code",
   "execution_count": 15,
   "metadata": {},
   "outputs": [
    {
     "output_type": "execute_result",
     "data": {
      "text/plain": [
       "(3, 4)"
      ]
     },
     "metadata": {},
     "execution_count": 15
    }
   ],
   "source": [
    "import re\n",
    "re.search('ab', 'ab,cd,abcd').span() # 在起始位置\n",
    "re.search('c', 'ab,cd,abcd').span()  # 不在起始位置"
   ]
  },
  {
   "cell_type": "code",
   "execution_count": 34,
   "metadata": {},
   "outputs": [
    {
     "output_type": "stream",
     "name": "stdout",
     "text": [
      "电话号码 :  2004-959-559 \n电话号码 :  2004959559\n"
     ]
    }
   ],
   "source": [
    "import re\n",
    " \n",
    "phone = \"2004-959-559 # 这是一个电话号码\"\n",
    " \n",
    "# 删除注释\n",
    "num = re.sub(r'#.*$', \"\", phone)\n",
    "print (\"电话号码 : \", num)\n",
    " \n",
    "# 移除非数字的内容\n",
    "num = re.sub(r'\\D', \"\", phone)\n",
    "print (\"电话号码 : \", num)"
   ]
  },
  {
   "cell_type": "code",
   "execution_count": 64,
   "metadata": {},
   "outputs": [
    {
     "output_type": "execute_result",
     "data": {
      "text/plain": [
       "[]"
      ]
     },
     "metadata": {},
     "execution_count": 64
    }
   ],
   "source": [
    "import re\n",
    "string = 'abc123def,123abc'\n",
    "patt1 = r'[0-9]+abc$'    # 匹配多个数字， + 匹配一个或者多个; abc$ : 匹配字母 abc 并以 abc 结尾，$ 为匹配输入字符串的结束位置。\n",
    "re.findall(patt1, string)\n"
   ]
  },
  {
   "cell_type": "code",
   "execution_count": 82,
   "metadata": {},
   "outputs": [
    {
     "output_type": "execute_result",
     "data": {
      "text/plain": [
       "['a0_', 'bb9', 'p1__8']"
      ]
     },
     "metadata": {},
     "execution_count": 82
    }
   ],
   "source": [
    "# 使用：当用户写注册表单时就可以使用正则表达式进行判定：\n",
    "# 注册表单：只允许用户名包含字符、数字、下划线和连接字符(-)，并设置用户名的长度\n",
    "import re\n",
    "patt = r'[a-z0-9_]{3,15}'   # 匹配单个字母、单个字符，长度3到15 \n",
    "str = 'a0_-bb9-p1__8'\n",
    "re.findall(patt, str) \n"
   ]
  },
  {
   "cell_type": "code",
   "execution_count": 97,
   "metadata": {},
   "outputs": [
    {
     "output_type": "execute_result",
     "data": {
      "text/plain": [
       "['A', 'a', 'B', 'a', 'a', '9', '0', '_']"
      ]
     },
     "metadata": {},
     "execution_count": 97
    }
   ],
   "source": [
    "import re\n",
    "string = 'AaBa#a90_'\n",
    "patt = r'[A-Za-z0-9_]'\n",
    "re.findall(patt, string)"
   ]
  },
  {
   "cell_type": "code",
   "execution_count": 98,
   "metadata": {},
   "outputs": [
    {
     "output_type": "execute_result",
     "data": {
      "text/plain": [
       "['A', 'a', 'B', 'a', 'a', '9', '0', '_']"
      ]
     },
     "metadata": {},
     "execution_count": 98
    }
   ],
   "source": [
    "import re\n",
    "string = 'AaBa#a90_'\n",
    "patt = r'[\\w]'\n",
    "re.findall(patt, string)"
   ]
  },
  {
   "cell_type": "code",
   "execution_count": 122,
   "metadata": {},
   "outputs": [],
   "source": [
    "import re\n",
    "string = 'carolina##'\n",
    "patt = r'[!#?]'     # ? : 匹配前面的子表达式零次或一次\n",
    "re.findall(patt, string)\n",
    "string = re.sub(patt, '', string)"
   ]
  },
  {
   "cell_type": "code",
   "execution_count": 123,
   "metadata": {},
   "outputs": [
    {
     "output_type": "execute_result",
     "data": {
      "text/plain": [
       "'Carolina'"
      ]
     },
     "metadata": {},
     "execution_count": 123
    }
   ],
   "source": [
    "string.title()"
   ]
  },
  {
   "cell_type": "code",
   "execution_count": null,
   "metadata": {},
   "outputs": [],
   "source": []
  }
 ]
}