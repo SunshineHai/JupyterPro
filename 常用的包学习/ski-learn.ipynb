{
 "metadata": {
  "language_info": {
   "codemirror_mode": {
    "name": "ipython",
    "version": 3
   },
   "file_extension": ".py",
   "mimetype": "text/x-python",
   "name": "python",
   "nbconvert_exporter": "python",
   "pygments_lexer": "ipython3",
   "version": "3.8.10"
  },
  "orig_nbformat": 4,
  "kernelspec": {
   "name": "python3",
   "display_name": "Python 3.8.10 64-bit ('dataAna': conda)"
  },
  "interpreter": {
   "hash": "b4a4b7fe6ec9b4fb695e0bbee7ccf3503571ff07faef1035f5944f65fd5aeb55"
  }
 },
 "nbformat": 4,
 "nbformat_minor": 2,
 "cells": [
  {
   "cell_type": "code",
   "execution_count": 1,
   "metadata": {},
   "outputs": [
    {
     "output_type": "execute_result",
     "data": {
      "text/plain": [
       "LinearRegression()"
      ]
     },
     "metadata": {},
     "execution_count": 1
    }
   ],
   "source": [
    "from sklearn import linear_model\n",
    "reg = linear_model.LinearRegression()\n",
    "reg.fit([[0, 0], [1, 1], [2, 2]], [0, 1, 2])\n",
    "# LinearRegression()\n"
   ]
  },
  {
   "cell_type": "code",
   "execution_count": 3,
   "metadata": {},
   "outputs": [
    {
     "output_type": "execute_result",
     "data": {
      "text/plain": [
       "array([0.5, 0.5])"
      ]
     },
     "metadata": {},
     "execution_count": 3
    }
   ],
   "source": [
    "reg.coef_"
   ]
  },
  {
   "cell_type": "code",
   "execution_count": 4,
   "metadata": {},
   "outputs": [
    {
     "output_type": "stream",
     "name": "stdout",
     "text": [
      "Automatically created module for IPython interactive environment\n",
      "Coefficients: \n",
      " [938.23786125]\n",
      "Mean squared error: 2548.07\n",
      "Coefficient of determination: 0.47\n"
     ]
    },
    {
     "output_type": "display_data",
     "data": {
      "text/plain": "<Figure size 432x288 with 1 Axes>",
      "image/svg+xml": "<?xml version=\"1.0\" encoding=\"utf-8\" standalone=\"no\"?>\r\n<!DOCTYPE svg PUBLIC \"-//W3C//DTD SVG 1.1//EN\"\r\n  \"http://www.w3.org/Graphics/SVG/1.1/DTD/svg11.dtd\">\r\n<!-- Created with matplotlib (https://matplotlib.org/) -->\r\n<svg height=\"235.34pt\" version=\"1.1\" viewBox=\"0 0 352.7 235.34\" width=\"352.7pt\" xmlns=\"http://www.w3.org/2000/svg\" xmlns:xlink=\"http://www.w3.org/1999/xlink\">\r\n <metadata>\r\n  <rdf:RDF xmlns:cc=\"http://creativecommons.org/ns#\" xmlns:dc=\"http://purl.org/dc/elements/1.1/\" xmlns:rdf=\"http://www.w3.org/1999/02/22-rdf-syntax-ns#\">\r\n   <cc:Work>\r\n    <dc:type rdf:resource=\"http://purl.org/dc/dcmitype/StillImage\"/>\r\n    <dc:date>2021-06-21T08:51:07.005316</dc:date>\r\n    <dc:format>image/svg+xml</dc:format>\r\n    <dc:creator>\r\n     <cc:Agent>\r\n      <dc:title>Matplotlib v3.3.4, https://matplotlib.org/</dc:title>\r\n     </cc:Agent>\r\n    </dc:creator>\r\n   </cc:Work>\r\n  </rdf:RDF>\r\n </metadata>\r\n <defs>\r\n  <style type=\"text/css\">*{stroke-linecap:butt;stroke-linejoin:round;}</style>\r\n </defs>\r\n <g id=\"figure_1\">\r\n  <g id=\"patch_1\">\r\n   <path d=\"M 0 235.34 \r\nL 352.7 235.34 \r\nL 352.7 0 \r\nL 0 0 \r\nz\r\n\" style=\"fill:none;\"/>\r\n  </g>\r\n  <g id=\"axes_1\">\r\n   <g id=\"patch_2\">\r\n    <path d=\"M 10.7 224.64 \r\nL 345.5 224.64 \r\nL 345.5 7.2 \r\nL 10.7 7.2 \r\nz\r\n\" style=\"fill:#ffffff;\"/>\r\n   </g>\r\n   <g id=\"PathCollection_1\">\r\n    <defs>\r\n     <path d=\"M 0 3 \r\nC 0.795609 3 1.55874 2.683901 2.12132 2.12132 \r\nC 2.683901 1.55874 3 0.795609 3 0 \r\nC 3 -0.795609 2.683901 -1.55874 2.12132 -2.12132 \r\nC 1.55874 -2.683901 0.795609 -3 0 -3 \r\nC -0.795609 -3 -1.55874 -2.683901 -2.12132 -2.12132 \r\nC -2.683901 -1.55874 -3 -0.795609 -3 0 \r\nC -3 0.795609 -2.683901 1.55874 -2.12132 2.12132 \r\nC -1.55874 2.683901 -0.795609 3 0 3 \r\nz\r\n\" id=\"m2dcec9a9fb\" style=\"stroke:#000000;\"/>\r\n    </defs>\r\n    <g clip-path=\"url(#p8e9c678e6d)\">\r\n     <use style=\"stroke:#000000;\" x=\"310.125286\" xlink:href=\"#m2dcec9a9fb\" y=\"75.178293\"/>\r\n     <use style=\"stroke:#000000;\" x=\"90.419085\" xlink:href=\"#m2dcec9a9fb\" y=\"182.313893\"/>\r\n     <use style=\"stroke:#000000;\" x=\"185.154786\" xlink:href=\"#m2dcec9a9fb\" y=\"167.224372\"/>\r\n     <use style=\"stroke:#000000;\" x=\"88.403432\" xlink:href=\"#m2dcec9a9fb\" y=\"136.290854\"/>\r\n     <use style=\"stroke:#000000;\" x=\"100.497351\" xlink:href=\"#m2dcec9a9fb\" y=\"160.434087\"/>\r\n     <use style=\"stroke:#000000;\" x=\"175.07652\" xlink:href=\"#m2dcec9a9fb\" y=\"200.421319\"/>\r\n     <use style=\"stroke:#000000;\" x=\"330.281818\" xlink:href=\"#m2dcec9a9fb\" y=\"17.083636\"/>\r\n     <use style=\"stroke:#000000;\" x=\"102.513004\" xlink:href=\"#m2dcec9a9fb\" y=\"180.050465\"/>\r\n     <use style=\"stroke:#000000;\" x=\"58.168633\" xlink:href=\"#m2dcec9a9fb\" y=\"112.902096\"/>\r\n     <use style=\"stroke:#000000;\" x=\"106.544311\" xlink:href=\"#m2dcec9a9fb\" y=\"201.175795\"/>\r\n     <use style=\"stroke:#000000;\" x=\"267.796568\" xlink:href=\"#m2dcec9a9fb\" y=\"120.446856\"/>\r\n     <use style=\"stroke:#000000;\" x=\"52.121674\" xlink:href=\"#m2dcec9a9fb\" y=\"196.648938\"/>\r\n     <use style=\"stroke:#000000;\" x=\"167.013907\" xlink:href=\"#m2dcec9a9fb\" y=\"214.001888\"/>\r\n     <use style=\"stroke:#000000;\" x=\"120.653883\" xlink:href=\"#m2dcec9a9fb\" y=\"202.684747\"/>\r\n     <use style=\"stroke:#000000;\" x=\"25.918182\" xlink:href=\"#m2dcec9a9fb\" y=\"214.756364\"/>\r\n     <use style=\"stroke:#000000;\" x=\"201.280012\" xlink:href=\"#m2dcec9a9fb\" y=\"116.674476\"/>\r\n     <use style=\"stroke:#000000;\" x=\"134.763456\" xlink:href=\"#m2dcec9a9fb\" y=\"172.505704\"/>\r\n     <use style=\"stroke:#000000;\" x=\"134.763456\" xlink:href=\"#m2dcec9a9fb\" y=\"151.380375\"/>\r\n     <use style=\"stroke:#000000;\" x=\"237.56177\" xlink:href=\"#m2dcec9a9fb\" y=\"84.986482\"/>\r\n     <use style=\"stroke:#000000;\" x=\"27.933835\" xlink:href=\"#m2dcec9a9fb\" y=\"207.966079\"/>\r\n    </g>\r\n   </g>\r\n   <g id=\"matplotlib.axis_1\"/>\r\n   <g id=\"matplotlib.axis_2\"/>\r\n   <g id=\"line2d_1\">\r\n    <path clip-path=\"url(#p8e9c678e6d)\" d=\"M 310.125286 80.479815 \r\nL 90.419085 163.642396 \r\nL 185.154786 127.783301 \r\nL 88.403432 164.405355 \r\nL 100.497351 159.827599 \r\nL 175.07652 131.598099 \r\nL 330.281818 72.85022 \r\nL 102.513004 159.064639 \r\nL 58.168633 175.849747 \r\nL 106.544311 157.53872 \r\nL 267.796568 96.501964 \r\nL 52.121674 178.138626 \r\nL 167.013907 134.649937 \r\nL 120.653883 152.198004 \r\nL 25.918182 188.057099 \r\nL 201.280012 121.679626 \r\nL 134.763456 146.857288 \r\nL 134.763456 146.857288 \r\nL 237.56177 107.946355 \r\nL 27.933835 187.294139 \r\n\" style=\"fill:none;stroke:#0000ff;stroke-linecap:square;stroke-width:3;\"/>\r\n   </g>\r\n   <g id=\"patch_3\">\r\n    <path d=\"M 10.7 224.64 \r\nL 10.7 7.2 \r\n\" style=\"fill:none;stroke:#000000;stroke-linecap:square;stroke-linejoin:miter;stroke-width:0.8;\"/>\r\n   </g>\r\n   <g id=\"patch_4\">\r\n    <path d=\"M 345.5 224.64 \r\nL 345.5 7.2 \r\n\" style=\"fill:none;stroke:#000000;stroke-linecap:square;stroke-linejoin:miter;stroke-width:0.8;\"/>\r\n   </g>\r\n   <g id=\"patch_5\">\r\n    <path d=\"M 10.7 224.64 \r\nL 345.5 224.64 \r\n\" style=\"fill:none;stroke:#000000;stroke-linecap:square;stroke-linejoin:miter;stroke-width:0.8;\"/>\r\n   </g>\r\n   <g id=\"patch_6\">\r\n    <path d=\"M 10.7 7.2 \r\nL 345.5 7.2 \r\n\" style=\"fill:none;stroke:#000000;stroke-linecap:square;stroke-linejoin:miter;stroke-width:0.8;\"/>\r\n   </g>\r\n  </g>\r\n </g>\r\n <defs>\r\n  <clipPath id=\"p8e9c678e6d\">\r\n   <rect height=\"217.44\" width=\"334.8\" x=\"10.7\" y=\"7.2\"/>\r\n  </clipPath>\r\n </defs>\r\n</svg>\r\n",
      "image/png": "[encoded data removed]"
     },
     "metadata": {}
    }
   ],
   "source": [
    "print(__doc__)\n",
    "\n",
    "\n",
    "# Code source: Jaques Grobler\n",
    "# License: BSD 3 clause\n",
    "\n",
    "\n",
    "import matplotlib.pyplot as plt\n",
    "import numpy as np\n",
    "from sklearn import datasets, linear_model\n",
    "from sklearn.metrics import mean_squared_error, r2_score\n",
    "\n",
    "# Load the diabetes dataset\n",
    "diabetes_X, diabetes_y = datasets.load_diabetes(return_X_y=True)\n",
    "\n",
    "# Use only one feature\n",
    "diabetes_X = diabetes_X[:, np.newaxis, 2]\n",
    "\n",
    "# Split the data into training/testing sets\n",
    "diabetes_X_train = diabetes_X[:-20]\n",
    "diabetes_X_test = diabetes_X[-20:]\n",
    "\n",
    "# Split the targets into training/testing sets\n",
    "diabetes_y_train = diabetes_y[:-20]\n",
    "diabetes_y_test = diabetes_y[-20:]\n",
    "\n",
    "# Create linear regression object\n",
    "regr = linear_model.LinearRegression()\n",
    "\n",
    "# Train the model using the training sets\n",
    "regr.fit(diabetes_X_train, diabetes_y_train)\n",
    "\n",
    "# Make predictions using the testing set\n",
    "diabetes_y_pred = regr.predict(diabetes_X_test)\n",
    "\n",
    "# The coefficients\n",
    "print('Coefficients: \\n', regr.coef_)\n",
    "# The mean squared error\n",
    "print('Mean squared error: %.2f'\n",
    "      % mean_squared_error(diabetes_y_test, diabetes_y_pred))\n",
    "# The coefficient of determination: 1 is perfect prediction\n",
    "print('Coefficient of determination: %.2f'\n",
    "      % r2_score(diabetes_y_test, diabetes_y_pred))\n",
    "\n",
    "# Plot outputs\n",
    "plt.scatter(diabetes_X_test, diabetes_y_test,  color='black')\n",
    "plt.plot(diabetes_X_test, diabetes_y_pred, color='blue', linewidth=3)\n",
    "\n",
    "plt.xticks(())\n",
    "plt.yticks(())\n",
    "\n",
    "plt.show()"
   ]
  },
  {
   "cell_type": "code",
   "execution_count": 7,
   "metadata": {},
   "outputs": [
    {
     "output_type": "error",
     "ename": "SyntaxError",
     "evalue": "invalid character in identifier (<ipython-input-7-2c40dc0dad66>, line 15)",
     "traceback": [
      "\u001b[1;36m  File \u001b[1;32m\"<ipython-input-7-2c40dc0dad66>\"\u001b[1;36m, line \u001b[1;32m15\u001b[0m\n\u001b[1;33m    output = sess.run(convolution, feed_dict={X: dataset})\u001b[0m\n\u001b[1;37m    ^\u001b[0m\n\u001b[1;31mSyntaxError\u001b[0m\u001b[1;31m:\u001b[0m invalid character in identifier\n"
     ]
    }
   ],
   "source": [
    "import numpy as np\n",
    "from sklearn.datasets import load_sample_images\n",
    "# Load sample images\n",
    "dataset = np.array(load_sample_images().images, dtype=np.float32)\n",
    "batch_size, height, width, channels = dataset.shape\n",
    "# Create 2 filters\n",
    "filters_test = np.zeros(shape=(7, 7, channels, 2), dtype=np.float32)\n",
    "filters_test[:, 3, :, 0] = 1 # vertical line\n",
    "filters_test[3, :, :, 1] = 1 # horizontal line\n",
    "# Create a graph with input X plus a convolutional layer applying the 2 filters\n",
    "X = tf.placeholder(tf.float32, shape=(None, height, width, channels))\n",
    "convolution = tf.nn.conv2d(X, filters, strides=[1,2,2,1], padding=\"SAME\")\n",
    "with tf.Session() as sess:\n",
    "　　 output = sess.run(convolution, feed_dict={X: dataset})\n",
    "plt.imshow(output[0, :, :, 1]) # plot 1st image's 2nd feature map\n",
    "plt.show()"
   ]
  },
  {
   "cell_type": "code",
   "execution_count": null,
   "metadata": {},
   "outputs": [],
   "source": []
  }
 ]
}